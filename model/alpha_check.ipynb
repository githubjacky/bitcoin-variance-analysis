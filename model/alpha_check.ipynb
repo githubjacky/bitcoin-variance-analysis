{
 "cells": [
  {
   "cell_type": "code",
   "execution_count": null,
   "id": "dfd65c3c-588e-47c1-8760-71b875a9f7ef",
   "metadata": {},
   "outputs": [],
   "source": [
    "alphas = np.linspace(0.01,0.3,100)\n",
    "mae_byalphas_lasso = []\n",
    "rmse_byalphas_lasso = []\n",
    "\n",
    "\n",
    "for i in alphas:\n",
    "    MAEs = []\n",
    "    RMSEs = []\n",
    "    tscv = BlockingTimeSeriesSplit(n_splits=3)\n",
    "    for train_index, val_index in tscv.split(X):\n",
    "        X_train, X_val = X.iloc[train_index], X.iloc[val_index]\n",
    "        y_train, y_val = y.iloc[train_index], y.iloc[val_index]\n",
    "        \n",
    "        reg = Lasso(alpha=i, max_iter=1000, tol=0.0001)\n",
    "        reg.fit(X_train, y_train)\n",
    "        ypred = reg.predict(X_val)\n",
    "\n",
    "        mse = mean_squared_error(y_val, ypred)\n",
    "        mae = mean_absolute_error(y_val, ypred)\n",
    "        rmse = mse**(1/2)\n",
    "        RMSEs.append(rmse)\n",
    "        MAEs.append(mae)\n",
    "   \n",
    "    rmse_byalphas_lasso.append(np.mean(RMSEs))\n",
    "    mae_byalphas_lasso.append(np.mean(MAEs))"
   ]
  },
  {
   "cell_type": "code",
   "execution_count": null,
   "id": "9dc91be4-f7db-4d91-aa4f-cad0be8023e5",
   "metadata": {},
   "outputs": [],
   "source": [
    "alphas = np.linspace(0.01,0.3,100)\n",
    "mae_byalphas_ridge = []\n",
    "rmse_byalphas_ridge = []\n",
    "\n",
    "for i in alphas:\n",
    "    MAEs = []\n",
    "    RMSEs = []\n",
    "    tscv = BlockingTimeSeriesSplit(n_splits=3)\n",
    "    for train_index, val_index in tscv.split(X):\n",
    "        X_train, X_val = X.iloc[train_index], X.iloc[val_index]\n",
    "        y_train, y_val = y.iloc[train_index], y.iloc[val_index]\n",
    "        \n",
    "        reg = Ridge(alpha=i, max_iter=1000, tol=0.0001)\n",
    "        reg.fit(X_train, y_train)\n",
    "        ypred = reg.predict(X_val)\n",
    "\n",
    "        mse = mean_squared_error(y_val, ypred)\n",
    "        mae = mean_absolute_error(y_val, ypred)\n",
    "        rmse = mse**(1/2)\n",
    "        RMSEs.append(rmse)\n",
    "        MAEs.append(mae)\n",
    "   \n",
    "    rmse_byalphas_ridge.append(np.mean(RMSEs))\n",
    "    mae_byalphas_ridge.append(np.mean(MAEs))"
   ]
  },
  {
   "cell_type": "code",
   "execution_count": null,
   "id": "26530e48-53a9-4ced-a8e3-82a18980f8ee",
   "metadata": {},
   "outputs": [],
   "source": [
    "alphas = np.linspace(0.01,1,100)\n",
    "mae_byalphas_ElasticNet = []\n",
    "rmse_byalphas_ElasticNet = []\n",
    "\n",
    "for i in alphas:\n",
    "    MAEs = []\n",
    "    RMSEs = []\n",
    "    tscv = BlockingTimeSeriesSplit(n_splits=3)\n",
    "    for train_index, val_index in tscv.split(X):\n",
    "        X_train, X_val = X.iloc[train_index], X.iloc[val_index]\n",
    "        y_train, y_val = y.iloc[train_index], y.iloc[val_index]\n",
    "        \n",
    "        reg = ElasticNet(alpha=i, max_iter=1000, tol=0.0001)\n",
    "        reg.fit(X_train, y_train)\n",
    "        ypred = reg.predict(X_val)\n",
    "\n",
    "        mse = mean_squared_error(y_val, ypred)\n",
    "        mae = mean_absolute_error(y_val, ypred)\n",
    "        rmse = mse**(1/2)\n",
    "        RMSEs.append(rmse)\n",
    "        MAEs.append(mae)\n",
    "   \n",
    "    rmse_byalphas_ElasticNet.append(np.mean(RMSEs))\n",
    "    mae_byalphas_ElasticNet.append(np.mean(MAEs))"
   ]
  },
  {
   "cell_type": "code",
   "execution_count": null,
   "id": "77d2fbe0-86a5-402c-89e4-da53e6a6a41e",
   "metadata": {},
   "outputs": [],
   "source": [
    "plt.figure(figsize=(20,10))\n",
    "\n",
    "plt.plot(alphas, rmse_byalphas_lasso, 'o-', label = 'Lasso')\n",
    "plt.plot(alphas, rmse_byalphas_ridge, 'o-', label = 'Ridge')\n",
    "plt.plot(alphas, rmse_byalphas_ElasticNet, 'o-', label = 'ElasticNet')\n",
    "plt.xlabel('alpha', fontsize = 20)\n",
    "plt.ylabel('RMSE', fontsize = 20)\n",
    "plt.legend()\n",
    "plt.show()"
   ]
  }
 ],
 "metadata": {
  "kernelspec": {
   "display_name": "crypto",
   "language": "python",
   "name": "crypto"
  },
  "language_info": {
   "codemirror_mode": {
    "name": "ipython",
    "version": 3
   },
   "file_extension": ".py",
   "mimetype": "text/x-python",
   "name": "python",
   "nbconvert_exporter": "python",
   "pygments_lexer": "ipython3",
   "version": "3.10.6"
  }
 },
 "nbformat": 4,
 "nbformat_minor": 5
}
